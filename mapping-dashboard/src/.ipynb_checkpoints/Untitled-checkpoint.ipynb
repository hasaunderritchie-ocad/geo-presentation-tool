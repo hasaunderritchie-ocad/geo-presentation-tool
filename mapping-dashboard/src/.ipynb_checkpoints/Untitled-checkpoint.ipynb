{
 "cells": [
  {
   "cell_type": "code",
   "execution_count": 40,
   "metadata": {},
   "outputs": [],
   "source": [
    "import pandas as pd\n",
    "import json\n",
    "from pprint import pprint\n",
    "import random\n",
    "import math\n",
    "\n",
    "src = 'toronto_output.json'\n",
    "data = json.load(open(src))\n",
    "locations = []\n",
    "for i in data:\n",
    "    name = i['location']\n",
    "    if name not in locations:\n",
    "        locations.append(name)\n"
   ]
  },
  {
   "cell_type": "code",
   "execution_count": null,
   "metadata": {},
   "outputs": [],
   "source": [
    "months = [{\n",
    "    'month': 'January',\n",
    "    'days': '31',\n",
    "    'activity': 0.399\n",
    "},{\n",
    "    'month': 'February',\n",
    "    'days': '28',\n",
    "    'activity': 0.411\n",
    "},{\n",
    "    'month': 'March',\n",
    "    'days': '31',\n",
    "    'activity': 0.466\n",
    "},{\n",
    "    'month': 'April',\n",
    "    'days': '30',\n",
    "    'activity': 0.551\n",
    "},{\n",
    "    'month': 'May',\n",
    "    'days': '31',\n",
    "    'activity': 0.765\n",
    "},{\n",
    "    'month': 'June',\n",
    "    'days': '30',\n",
    "    'activity': 0.713\n",
    "},{\n",
    "    'month': 'July',\n",
    "    'days': '31',\n",
    "    'activity': 0.909\n",
    "},{\n",
    "    'month': 'August',\n",
    "    'days': '31',\n",
    "    'activity': 0.900\n",
    "},{\n",
    "    'month': 'September',\n",
    "    'days': '30',\n",
    "    'activity': 0.856\n",
    "},{\n",
    "    'month': 'October',\n",
    "    'days': '31',\n",
    "    'activity': 0.454\n",
    "},{\n",
    "    'month': 'November',\n",
    "    'days': '30',\n",
    "    'activity': 0.444\n",
    "},{\n",
    "    'month': 'December',\n",
    "    'days': '31',\n",
    "    'activity': 0.411\n",
    "}]\n",
    "results = []\n",
    "\n",
    "for i in range(0, 6):\n",
    "    year = 2012 + i\n",
    "    for j in range(0, 12):\n",
    "        days = []\n",
    "        for l in locations:\n",
    "#             for k in range(0, random.randint(5, 15)):\n",
    "#                 day = random.randint(0, int(months[j]['days']))\n",
    "\n",
    "#                 if day not in days:\n",
    "            res = {\n",
    "                'location': l,\n",
    "                'year': year,\n",
    "                'month': months[j]['month'],\n",
    "                'day': day,\n",
    "                'properties_sold': math.ceil(random.randint(1, 20)*months[j]['activity']),\n",
    "                'avg_price': random.randint(4, 10)*months[j]['activity'],\n",
    "                'avg_sqr_ft': random.randint(500, 800),\n",
    "                'walk_score': (random.randint(1, 30)/random.randint(7, 9))*months[j]['activity'],\n",
    "                'interest_score': (random.randint(1, 10)/random.randint(10,40))*random.randint(0, 10),\n",
    "                'pop_increase': random.randint(20, 100)*(months[j]['activity'])*random.randint(0, 6),\n",
    "                'city_investment': months[j]['activity']*random.randint(200, 21000),\n",
    "                'private_investment': months[j]['activity']*random.randint(20, 62000)\n",
    "            }\n",
    "            results.append(res)"
   ]
  },
  {
   "cell_type": "code",
   "execution_count": 50,
   "metadata": {},
   "outputs": [
    {
     "name": "stdout",
     "output_type": "stream",
     "text": [
      "100421\n",
      "complete\n"
     ]
    }
   ],
   "source": [
    "print(len(results))\n",
    "import csv\n",
    "\n",
    "with open('toronto_fake_data.csv', 'w') as csvfile:\n",
    "    fieldnames = ['location', 'year', 'month', 'day', 'properties_sold', \n",
    "                  'avg_price', 'avg_sqr_ft', 'walk_score', 'interest_score',\n",
    "                 'pop_increase', 'city_investment', 'private_investment']\n",
    "    writer = csv.DictWriter(csvfile, fieldnames=fieldnames)\n",
    "\n",
    "    writer.writeheader()\n",
    "    for row in results:\n",
    "        writer.writerow({'location': row['location'], \n",
    "                         'year': row['year'], \n",
    "                         'month': row['month'],\n",
    "#                          'day': row['day'] , \n",
    "                         'properties_sold': row['properties_sold'], \n",
    "                         'avg_price': row['avg_price'], \n",
    "                         'avg_sqr_ft': row['avg_sqr_ft'], \n",
    "                         'walk_score': row['walk_score'], \n",
    "                         'interest_score': row['interest_score'],\n",
    "                         'pop_increase': row['pop_increase'], \n",
    "                         'city_investment': row['city_investment'], \n",
    "                         'private_investment': row['private_investment']})\n",
    "    print('complete')"
   ]
  },
  {
   "cell_type": "code",
   "execution_count": null,
   "metadata": {
    "collapsed": true
   },
   "outputs": [],
   "source": []
  },
  {
   "cell_type": "code",
   "execution_count": null,
   "metadata": {
    "collapsed": true
   },
   "outputs": [],
   "source": []
  }
 ],
 "metadata": {
  "kernelspec": {
   "display_name": "Python 3",
   "language": "python",
   "name": "python3"
  },
  "language_info": {
   "codemirror_mode": {
    "name": "ipython",
    "version": 3
   },
   "file_extension": ".py",
   "mimetype": "text/x-python",
   "name": "python",
   "nbconvert_exporter": "python",
   "pygments_lexer": "ipython3",
   "version": "3.6.2"
  }
 },
 "nbformat": 4,
 "nbformat_minor": 2
}
