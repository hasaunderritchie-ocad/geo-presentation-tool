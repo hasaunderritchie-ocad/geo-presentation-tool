{
 "cells": [
  {
   "cell_type": "code",
   "execution_count": 13,
   "metadata": {},
   "outputs": [
    {
     "name": "stdout",
     "output_type": "stream",
     "text": [
      "['Trinity-Bellwoods', 'West Humber-Clairville', 'Mount Olive-Silverstone-Jamestown', 'Humber Summit', 'Thistletown-Beaumond Heights', 'Humbermede', 'Rexdale-Kipling', 'Elms-Old Rexdale', 'Pelmo Park-Humberlea', 'Downsview-Roding-CFB', 'Kingsview Village-The Westway', 'Weston', 'Rustic', 'Humber Heights-Westmount', 'Brookhaven-Amesbury', 'Mount Dennis', 'Willowridge-Martingrove-Richview', 'Princess-Rosethorn', 'Eringate-Centennial-West Deane', 'Edenbridge-Humber Valley', 'Rockcliffe-Smythe', 'Markland Woods', 'Etobicoke West Mall', 'Islington-City Centre West', 'Alderwood', 'Long Branch', 'New Toronto', 'Mimico', 'Stonegate-Queensway', 'Kingsway South', 'Lambton Baby Point', 'High Park-Swansea', 'Runnymede-Bloor West Village', 'High Park North', 'Junction Area', 'Roncesvalles', 'South Parkdale', 'Dufferin Grove', 'Little Portugal', 'Dovercourt-Wallace Emerson-Juncti', 'Niagara', 'Weston-Pellam Park', 'Palmerston-Little Italy', 'University', 'Kensington-Chinatown', 'Waterfront Communities-The Island', 'Annex', 'Wychwood', 'Corsa Italia-Davenport', 'Oakwood-Vaughan', 'Humewood-Cedarvale', 'Casa Loma', 'Forest Hill South', 'Yonge-St.Clair', 'Bay Street Corridor', 'Rosedale-Moore Park', 'Church-Yonge Corridor', 'Caledonia-Fairbanks', 'North St.James Town', 'Cabbagetown-South St.James Town', 'Moss Park', 'Regent Park', 'Playter Estates-Danforth', 'South Riverdale', 'North Riverdale', 'Blake-Jones', 'Danforth Village - Toronto', 'Broadview North', 'Old East York', 'Danforth Village - East York', 'Greenwood-Coxwell', 'Woodbine Corridor', 'Maple Leaf', 'Beechborough-Greenbrook', 'Keelesdale-Eglinton West', 'Briar Hill-Belgravia', 'Yorkdale-Glen Park', 'Forest Hill North', 'Englemount-Lawrence', 'Bedford Park-Nortown', 'Lawrence Park South', 'Yonge-Eglinton', 'Mount Pleasant West', 'Lawrence Park North', 'Mount Pleasant East', 'Black Creek', 'Glenfield-Jane Heights', 'York University Heights', 'Bathurst Manor', 'Westminster-Branson', 'Clanton Park', 'Lansing-Westgate', 'Willowdale West', 'Newtonbrook West', 'Newtonbrook East', 'Willowdale East', 'Bayview Woods-Steeles', 'Bayview Village', 'St.Andrew-Windfields', 'Don Valley Village', 'Henry Farm', 'Pleasant View', 'Parkwoods-Donalda', \"Tam O'Shanter-Sullivan\", 'Bridle Path-Sunnybrook-York Mills', 'Leaside-Bennington', 'Banbury-Don Mills', 'Thorncliffe Park', 'Flemingdon Park', 'Victoria Village', \"O'Connor-Parkview\", 'The Beaches', 'East End-Danforth', 'Woodbine-Lumsden', 'Crescent Town', 'Birchcliffe-Cliffside', 'Oakridge', 'Clairlea-Birchmount', 'Wexford/Maryvale', 'Dorset Park', 'Ionview', 'Kennedy Park', 'Cliffcrest', 'Eglinton East', 'Bendale', 'Scarborough Village', 'Woburn', 'Guildwood', 'Morningside', 'West Hill', 'Rouge', 'Centennial Scarborough', 'Highland Creek', 'Malvern', 'Hillcrest Village', 'Steeles', \"L'Amoreaux\", 'Agincourt South-Malvern West', 'Milliken', 'Agincourt North']\n"
     ]
    }
   ],
   "source": [
    "import pymongo as mongo\n",
    "import json\n",
    "import random\n",
    "import pandas as pd\n",
    "\n",
    "locations = []\n",
    "with open('toronto_geoJSON.json') as data_file:    \n",
    "    data = json.load(data_file)\n",
    "    \n",
    "    for location in data['features']:\n",
    "#         print(location['properties']['HOOD'])\n",
    "        locations.append(location['properties']['HOOD'])\n"
   ]
  },
  {
   "cell_type": "code",
   "execution_count": 33,
   "metadata": {
    "collapsed": true
   },
   "outputs": [],
   "source": [
    "months = ['January', 'February', 'March', 'April', 'May', 'June', \n",
    "         'July', 'August', 'September', 'October', 'November', 'December']\n",
    "datum = []\n",
    "\n",
    "for location in locations:\n",
    "    res = {\n",
    "        location: {\n",
    "        }\n",
    "    }\n",
    "    for y in range(0,6):\n",
    "        year = 2012+y\n",
    "        data = {\n",
    "            'location': location,\n",
    "            'year': year,\n",
    "            'open construction tickets': random.randint(1, 15),\n",
    "            'avg square ft': random.random()*130,\n",
    "            'avg $ per ft': random.random()*2000,\n",
    "            'tickets closed': random.randint(0, 5),\n",
    "            'avg income': random.randint(70000, 290000)\n",
    "        }\n",
    "        datum.append(data)\n",
    "with open('toronto_output.json', 'w') as outfile:\n",
    "    json.dump(datum, outfile)"
   ]
  },
  {
   "cell_type": "code",
   "execution_count": null,
   "metadata": {
    "collapsed": true
   },
   "outputs": [],
   "source": []
  }
 ],
 "metadata": {
  "kernelspec": {
   "display_name": "Python 3",
   "language": "python",
   "name": "python3"
  },
  "language_info": {
   "codemirror_mode": {
    "name": "ipython",
    "version": 3
   },
   "file_extension": ".py",
   "mimetype": "text/x-python",
   "name": "python",
   "nbconvert_exporter": "python",
   "pygments_lexer": "ipython3",
   "version": "3.6.2"
  }
 },
 "nbformat": 4,
 "nbformat_minor": 1
}
